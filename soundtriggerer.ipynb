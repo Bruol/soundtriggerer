{
 "cells": [
  {
   "cell_type": "code",
   "execution_count": 1,
   "metadata": {},
   "outputs": [
    {
     "name": "stdout",
     "output_type": "stream",
     "text": [
      "pygame 1.9.6\n",
      "Hello from the pygame community. https://www.pygame.org/contribute.html\n"
     ]
    }
   ],
   "source": [
    "import pygame"
   ]
  },
  {
   "cell_type": "code",
   "execution_count": 28,
   "metadata": {},
   "outputs": [],
   "source": [
    "pygame.init()\n",
    "pygame.mixer.init(allowedchanges=0)"
   ]
  },
  {
   "cell_type": "code",
   "execution_count": null,
   "metadata": {},
   "outputs": [],
   "source": [
    "# phone = pygame.mixer.Sound('files/audio.ogg')\n",
    "# phone.play()"
   ]
  },
  {
   "cell_type": "code",
   "execution_count": 31,
   "metadata": {},
   "outputs": [],
   "source": [
    "image = pygame.image.load(\"files/keyboard.png\")\n",
    " "
   ]
  },
  {
   "cell_type": "code",
   "execution_count": 32,
   "metadata": {},
   "outputs": [
    {
     "name": "stdout",
     "output_type": "stream",
     "text": [
      "219\n"
     ]
    }
   ],
   "source": [
    "print(image.get_rect()[3])"
   ]
  },
  {
   "cell_type": "code",
   "execution_count": 1,
   "metadata": {},
   "outputs": [
    {
     "name": "stdout",
     "output_type": "stream",
     "text": [
      "pygame 1.9.6\n",
      "Hello from the pygame community. https://www.pygame.org/contribute.html\n",
      "Initializing pygame: 6 successes and 0 failures.\n",
      "Exited the game loop. Game will quit...\n"
     ]
    }
   ],
   "source": [
    "import pygame\n",
    "\n",
    "successes, failures = pygame.init()\n",
    "print(\"Initializing pygame: {0} successes and {1} failures.\".format(successes, failures))\n",
    "\n",
    "screen = pygame.display.set_mode((720, 480))\n",
    "clock = pygame.time.Clock()\n",
    "FPS = 144\n",
    "\n",
    "BLACK = (0, 0, 0)\n",
    "WHITE = (255, 255, 255)\n",
    "\n",
    "\n",
    "class Player(pygame.sprite.Sprite):\n",
    "    def __init__(self):\n",
    "        super().__init__()\n",
    "        self.image = pygame.Surface((32, 32))\n",
    "        self.image.fill(WHITE)\n",
    "        self.rect = self.image.get_rect()  # Get rect of some size as 'image'.\n",
    "        self.velocity = [0, 0]\n",
    "\n",
    "    def update(self):\n",
    "        self.rect.move_ip(*self.velocity)\n",
    "\n",
    "\n",
    "player = Player()\n",
    "running = True\n",
    "while running:\n",
    "    dt = clock.tick(FPS) / 1000  # Returns milliseconds between each call to 'tick'. The convert time to seconds.\n",
    "    screen.fill(BLACK)  # Fill the screen with background color.\n",
    "\n",
    "    for event in pygame.event.get():\n",
    "        if event.type == pygame.QUIT:\n",
    "            running = False\n",
    "        elif event.type == pygame.KEYDOWN:\n",
    "            if event.key == pygame.K_w:\n",
    "                player.velocity[1] = -200 * dt  # 200 pixels per second\n",
    "            elif event.key == pygame.K_s:\n",
    "                player.velocity[1] = 200 * dt\n",
    "            elif event.key == pygame.K_a:\n",
    "                player.velocity[0] = -200 * dt\n",
    "            elif event.key == pygame.K_d:\n",
    "                player.velocity[0] = 200 * dt\n",
    "        elif event.type == pygame.KEYUP:\n",
    "            if event.key == pygame.K_w or event.key == pygame.K_s:\n",
    "                player.velocity[1] = 0\n",
    "            elif event.key == pygame.K_a or event.key == pygame.K_d:\n",
    "                player.velocity[0] = 0\n",
    "\n",
    "    player.update()\n",
    "\n",
    "    screen.blit(player.image, player.rect)\n",
    "    pygame.display.update()  # Or pygame.display.flip()\n",
    "\n",
    "print(\"Exited the game loop. Game will quit...\")\n",
    "quit()  # Not actually necessary since the script will exit anyway.\n",
    " "
   ]
  }
 ],
 "metadata": {
  "kernelspec": {
   "display_name": "Python 3",
   "language": "python",
   "name": "python3"
  },
  "language_info": {
   "codemirror_mode": {
    "name": "ipython",
    "version": 3
   },
   "file_extension": ".py",
   "mimetype": "text/x-python",
   "name": "python",
   "nbconvert_exporter": "python",
   "pygments_lexer": "ipython3",
   "version": "3.7.3"
  }
 },
 "nbformat": 4,
 "nbformat_minor": 2
}
